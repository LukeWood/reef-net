{
 "cells": [
  {
   "cell_type": "markdown",
   "metadata": {},
   "source": [
    "# Reef-Net\n",
    "\n",
    "Let's start the project by installing the data set from Kaggle\n",
    "\n",
    "In order to install the data-set from kaggle first go to [Kaggle](https://www.kaggle.com/competitions/tensorflow-great-barrier-reef) and accept the terms and condition of the competiton.\n",
    "\n",
    "### Install Kaggle if not already installed\n",
    "!pip install Kaggle\n",
    "\n",
    "### Add json file to Kaggle folder\n",
    "C:/Users/.../.Kaggle/Kaggle.json\n",
    "\n",
    "This can be done using the Kaggle account. Go to [Kaggle Account](https://www.kaggle.com/harrykt/account).\n",
    "\n",
    "And create a new API, this will download the Kaggle.json file, it is like a public key so that Kaggle knows who is downloading the data-set.\n",
    "\n",
    "### Download the Data-set\n",
    "This can be done using the following command.\n",
    "!kaggle competitions download -c tensorflow-great-barrier-reef"
   ]
  },
  {
   "cell_type": "markdown",
   "metadata": {},
   "source": [
    "---"
   ]
  },
  {
   "cell_type": "markdown",
   "metadata": {},
   "source": [
    "## Unziping the data-set\n",
    "\n",
    "After downloading the data set you can unzip the data-set using the following script. \n",
    "Rather than manually doing it.\n",
    "\n",
    "Why?\n",
    "Just to look cool. Haha\n",
    "\n",
    "    import zipfile\n",
    "    with zipfile.ZipFile(\"tensorflow-great-barrier-reef.zip\",\"r\") as zip_ref:\n",
    "        zip_ref.extractall(\"tensorflow-great-barrier-reef\")"
   ]
  },
  {
   "cell_type": "markdown",
   "metadata": {},
   "source": [
    "---"
   ]
  },
  {
   "cell_type": "markdown",
   "metadata": {},
   "source": [
    "## Data-set Structure\n",
    "\n",
    "In the data set we have 3 videos\n",
    "\n",
    "    1. Video 0\n",
    "    2. Video 1\n",
    "    3. Video 2\n",
    "    \n",
    "Now this videos are split into images in their respective folder. For examples \n",
    "\n",
    "    1. tensorflow-great-barrier-reef\\train_images\\video_0\n",
    "    2. tensorflow-great-barrier-reef\\train_images\\video_1\n",
    "    3. tensorflow-great-barrier-reef\\train_images\\video_2\n",
    "    \n",
    "But we are concerned with meta-data, so this meta data is stored in \n",
    "\n",
    "    tensorflow-great-barrier-reef/train.csv\n",
    "    \n",
    "Once we open this CSV files there are 6 columns we are majorly interested in\n",
    "\n",
    "    1. Video Video (This is nothing but which video is used).\n",
    "    2. Sequence (It is random ID for a subset of a video. Not really makes sense as of now).\n",
    "    3. Video Frame (This can be considered as selected photo at a particular time in a video).\n",
    "    4. Sequence Frame (Similar to video frame but, this is a number given a sequence).\n",
    "    5. Image ID (This is similar to frame, but sometimes the name of images are different. Careful while loading data).\n",
    "    6. Annotation (This is the bouding box where our corals are present in the images. "
   ]
  },
  {
   "cell_type": "markdown",
   "metadata": {},
   "source": [
    "---"
   ]
  },
  {
   "cell_type": "markdown",
   "metadata": {},
   "source": [
    "### import os\n",
    "## Here in the data-set we have three videos and there are multiple images\n",
    "path = os.path.abspath('tensorflow-great-barrier-reef/train.csv')\n",
    "image_path = os.path.abspath('tensorflow-great-barrier-reef/train_images/')"
   ]
  },
  {
   "cell_type": "markdown",
   "metadata": {},
   "source": [
    "## Load CSV File\n",
    "\n",
    "The Meta-data we have is in csv file, we now have to load this data into Python to actually use it.\n",
    "\n",
    "Reference: [Tensorflow CSV](https://www.tensorflow.org/tutorials/load_data/csv)\n",
    "\n",
    "Import tensorflow using:\n",
    "    \n",
    "    !pip install tensorflow"
   ]
  },
  {
   "cell_type": "code",
   "execution_count": 8,
   "metadata": {},
   "outputs": [],
   "source": [
    "import pandas as pd\n",
    "import numpy as np\n",
    "\n",
    "# Make numpy values easier to read.\n",
    "# np.set_printoptions(precision=3, suppress=True)\n",
    "\n",
    "import tensorflow as tf\n",
    "from tensorflow.keras import layers"
   ]
  },
  {
   "cell_type": "code",
   "execution_count": 9,
   "metadata": {},
   "outputs": [],
   "source": [
    "# The first row of our data-set already contains the names of columns\n",
    "# Thus we dont have to add naems in the pd.read_csv function\n",
    "training_data = pd.read_csv(path)"
   ]
  },
  {
   "cell_type": "code",
   "execution_count": 10,
   "metadata": {},
   "outputs": [
    {
     "data": {
      "text/html": [
       "<div>\n",
       "<style scoped>\n",
       "    .dataframe tbody tr th:only-of-type {\n",
       "        vertical-align: middle;\n",
       "    }\n",
       "\n",
       "    .dataframe tbody tr th {\n",
       "        vertical-align: top;\n",
       "    }\n",
       "\n",
       "    .dataframe thead th {\n",
       "        text-align: right;\n",
       "    }\n",
       "</style>\n",
       "<table border=\"1\" class=\"dataframe\">\n",
       "  <thead>\n",
       "    <tr style=\"text-align: right;\">\n",
       "      <th></th>\n",
       "      <th>video_id</th>\n",
       "      <th>sequence</th>\n",
       "      <th>video_frame</th>\n",
       "      <th>sequence_frame</th>\n",
       "      <th>image_id</th>\n",
       "      <th>annotations</th>\n",
       "    </tr>\n",
       "  </thead>\n",
       "  <tbody>\n",
       "    <tr>\n",
       "      <th>0</th>\n",
       "      <td>0</td>\n",
       "      <td>40258</td>\n",
       "      <td>0</td>\n",
       "      <td>0</td>\n",
       "      <td>0-0</td>\n",
       "      <td>[]</td>\n",
       "    </tr>\n",
       "    <tr>\n",
       "      <th>1</th>\n",
       "      <td>0</td>\n",
       "      <td>40258</td>\n",
       "      <td>1</td>\n",
       "      <td>1</td>\n",
       "      <td>0-1</td>\n",
       "      <td>[]</td>\n",
       "    </tr>\n",
       "    <tr>\n",
       "      <th>2</th>\n",
       "      <td>0</td>\n",
       "      <td>40258</td>\n",
       "      <td>2</td>\n",
       "      <td>2</td>\n",
       "      <td>0-2</td>\n",
       "      <td>[]</td>\n",
       "    </tr>\n",
       "    <tr>\n",
       "      <th>3</th>\n",
       "      <td>0</td>\n",
       "      <td>40258</td>\n",
       "      <td>3</td>\n",
       "      <td>3</td>\n",
       "      <td>0-3</td>\n",
       "      <td>[]</td>\n",
       "    </tr>\n",
       "    <tr>\n",
       "      <th>4</th>\n",
       "      <td>0</td>\n",
       "      <td>40258</td>\n",
       "      <td>4</td>\n",
       "      <td>4</td>\n",
       "      <td>0-4</td>\n",
       "      <td>[]</td>\n",
       "    </tr>\n",
       "  </tbody>\n",
       "</table>\n",
       "</div>"
      ],
      "text/plain": [
       "   video_id  sequence  video_frame  sequence_frame image_id annotations\n",
       "0         0     40258            0               0      0-0          []\n",
       "1         0     40258            1               1      0-1          []\n",
       "2         0     40258            2               2      0-2          []\n",
       "3         0     40258            3               3      0-3          []\n",
       "4         0     40258            4               4      0-4          []"
      ]
     },
     "execution_count": 10,
     "metadata": {},
     "output_type": "execute_result"
    }
   ],
   "source": [
    "training_data.head()"
   ]
  },
  {
   "cell_type": "code",
   "execution_count": 18,
   "metadata": {},
   "outputs": [
    {
     "data": {
      "text/plain": [
       "0        []\n",
       "1        []\n",
       "2        []\n",
       "3        []\n",
       "4        []\n",
       "         ..\n",
       "23496    []\n",
       "23497    []\n",
       "23498    []\n",
       "23499    []\n",
       "23500    []\n",
       "Name: annotations, Length: 23501, dtype: object"
      ]
     },
     "execution_count": 18,
     "metadata": {},
     "output_type": "execute_result"
    }
   ],
   "source": [
    "training_data[\"annotations\"]"
   ]
  },
  {
   "cell_type": "code",
   "execution_count": 22,
   "metadata": {},
   "outputs": [],
   "source": [
    "video_id = training_data[\"video_id\"]\n",
    "sequence = training_data[\"sequence\"]\n",
    "video_frame = training_data[\"video_frame\"]\n",
    "sequence_frame = training_data[\"sequence_frame\"]\n",
    "image_id = training_data[\"image_id\"]\n",
    "annotations = training_data[\"annotations\"]"
   ]
  },
  {
   "cell_type": "code",
   "execution_count": 23,
   "metadata": {},
   "outputs": [],
   "source": [
    "tf_video_id = tf.data.Dataset.from_tensor_slices(video_id)\n",
    "tf_sequence = tf.data.Dataset.from_tensor_slices(sequence)\n",
    "tf_video_frame = tf.data.Dataset.from_tensor_slices(video_frame)\n",
    "tf_sequence_frame = tf.data.Dataset.from_tensor_slices(sequence_frame)\n",
    "tf_image_id = tf.data.Dataset.from_tensor_slices(image_id)\n",
    "tf_annotations = tf.data.Dataset.from_tensor_slices(annotations)"
   ]
  },
  {
   "cell_type": "code",
   "execution_count": 24,
   "metadata": {},
   "outputs": [],
   "source": [
    "data_set = tf.data.Dataset.zip(\n",
    "    (\n",
    "        tf_video_id,\n",
    "        tf_sequence,\n",
    "        tf_video_frame,\n",
    "        tf_sequence_frame,\n",
    "        tf_image_id,\n",
    "        tf_annotations,\n",
    "    )\n",
    ")"
   ]
  },
  {
   "cell_type": "code",
   "execution_count": 25,
   "metadata": {},
   "outputs": [
    {
     "data": {
      "text/plain": [
       "<ZipDataset element_spec=(TensorSpec(shape=(), dtype=tf.int64, name=None), TensorSpec(shape=(), dtype=tf.int64, name=None), TensorSpec(shape=(), dtype=tf.int64, name=None), TensorSpec(shape=(), dtype=tf.int64, name=None), TensorSpec(shape=(), dtype=tf.string, name=None), TensorSpec(shape=(), dtype=tf.string, name=None))>"
      ]
     },
     "execution_count": 25,
     "metadata": {},
     "output_type": "execute_result"
    }
   ],
   "source": [
    "data_set"
   ]
  },
  {
   "cell_type": "code",
   "execution_count": null,
   "metadata": {},
   "outputs": [],
   "source": []
  }
 ],
 "metadata": {
  "kernelspec": {
   "display_name": "Python 3 (ipykernel)",
   "language": "python",
   "name": "python3"
  },
  "language_info": {
   "codemirror_mode": {
    "name": "ipython",
    "version": 3
   },
   "file_extension": ".py",
   "mimetype": "text/x-python",
   "name": "python",
   "nbconvert_exporter": "python",
   "pygments_lexer": "ipython3",
   "version": "3.9.10"
  }
 },
 "nbformat": 4,
 "nbformat_minor": 2
}
