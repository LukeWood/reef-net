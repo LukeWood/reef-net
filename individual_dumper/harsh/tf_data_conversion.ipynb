{
 "cells": [
  {
   "cell_type": "markdown",
   "metadata": {},
   "source": [
    "# Reef-Net\n",
    "\n",
    "Let's start the project by installing the data set from Kaggle\n",
    "\n",
    "In order to install the data-set from kaggle first go to [Kaggle](https://www.kaggle.com/competitions/tensorflow-great-barrier-reef) and accept the terms and condition of the competiton.\n",
    "\n",
    "### Install Kaggle if not already installed\n",
    "!pip install Kaggle\n",
    "\n",
    "### Add json file to Kaggle folder\n",
    "C:/Users/.../.Kaggle/Kaggle.json\n",
    "\n",
    "This can be done using the Kaggle account. Go to [Kaggle Account](https://www.kaggle.com/harrykt/account).\n",
    "\n",
    "And create a new API, this will download the Kaggle.json file, it is like a public key so that Kaggle knows who is downloading the data-set.\n",
    "\n",
    "### Download the Data-set\n",
    "This can be done using the following command.\n",
    "!kaggle competitions download -c tensorflow-great-barrier-reef"
   ]
  },
  {
   "cell_type": "markdown",
   "metadata": {},
   "source": [
    "---"
   ]
  },
  {
   "cell_type": "markdown",
   "metadata": {},
   "source": [
    "## Unziping the data-set\n",
    "\n",
    "After downloading the data set you can unzip the data-set using the following script. \n",
    "Rather than manually doing it.\n",
    "\n",
    "Why?\n",
    "Just to look cool. Haha\n",
    "\n",
    "    import zipfile\n",
    "    with zipfile.ZipFile(\"tensorflow-great-barrier-reef.zip\",\"r\") as zip_ref:\n",
    "        zip_ref.extractall(\"tensorflow-great-barrier-reef\")"
   ]
  },
  {
   "cell_type": "markdown",
   "metadata": {},
   "source": [
    "---"
   ]
  },
  {
   "cell_type": "markdown",
   "metadata": {},
   "source": [
    "## Data-set Structure\n",
    "\n",
    "In the data set we have 3 videos\n",
    "\n",
    "    1. Video 0\n",
    "    2. Video 1\n",
    "    3. Video 2\n",
    "    \n",
    "Now this videos are split into images in their respective folder. For examples \n",
    "\n",
    "    1. tensorflow-great-barrier-reef\\train_images\\video_0\n",
    "    2. tensorflow-great-barrier-reef\\train_images\\video_1\n",
    "    3. tensorflow-great-barrier-reef\\train_images\\video_2\n",
    "    \n",
    "But we are concerned with meta-data, so this meta data is stored in \n",
    "\n",
    "    tensorflow-great-barrier-reef/train.csv\n",
    "    \n",
    "Once we open this CSV files there are 6 columns we are majorly interested in\n",
    "\n",
    "    1. Video Video (This is nothing but which video is used).\n",
    "    2. Sequence (It is random ID for a subset of a video. Not really makes sense as of now).\n",
    "    3. Video Frame (This can be considered as selected photo at a particular time in a video).\n",
    "    4. Sequence Frame (Similar to video frame but, this is a number given a sequence).\n",
    "    5. Image ID (This is similar to frame, but sometimes the name of images are different. Careful while loading data).\n",
    "    6. Annotation (This is the bouding box where our corals are present in the images. "
   ]
  },
  {
   "cell_type": "markdown",
   "metadata": {},
   "source": [
    "---"
   ]
  },
  {
   "cell_type": "code",
   "execution_count": 15,
   "metadata": {},
   "outputs": [],
   "source": [
    "import os\n",
    "\n",
    "#Here in the data-set we have three videos and there are multiple images\n",
    "path = os.path.abspath('../../tensorflow-great-barrier-reef/train.csv')\n",
    "image_path = os.path.abspath('tensorflow-great-barrier-reef/train_images/')"
   ]
  },
  {
   "cell_type": "markdown",
   "metadata": {},
   "source": [
    "## Load CSV File\n",
    "\n",
    "The Meta-data we have is in csv file, we now have to load this data into Python to actually use it.\n",
    "\n",
    "Reference: [Tensorflow CSV](https://www.tensorflow.org/tutorials/load_data/csv)\n",
    "\n",
    "Import tensorflow using:\n",
    "    \n",
    "    !pip install tensorflow"
   ]
  },
  {
   "cell_type": "code",
   "execution_count": 16,
   "metadata": {},
   "outputs": [],
   "source": [
    "import pandas as pd\n",
    "import numpy as np\n",
    "\n",
    "# Make numpy values easier to read.\n",
    "# np.set_printoptions(precision=3, suppress=True)\n",
    "\n",
    "import tensorflow as tf\n",
    "from tensorflow.keras import layers"
   ]
  },
  {
   "cell_type": "code",
   "execution_count": 17,
   "metadata": {},
   "outputs": [],
   "source": [
    "# The first row of our data-set already contains the names of columns\n",
    "# Thus we dont have to add naems in the pd.read_csv function\n",
    "training_data = pd.read_csv(path)"
   ]
  },
  {
   "cell_type": "code",
   "execution_count": 18,
   "metadata": {},
   "outputs": [
    {
     "data": {
      "text/html": [
       "<div>\n",
       "<style scoped>\n",
       "    .dataframe tbody tr th:only-of-type {\n",
       "        vertical-align: middle;\n",
       "    }\n",
       "\n",
       "    .dataframe tbody tr th {\n",
       "        vertical-align: top;\n",
       "    }\n",
       "\n",
       "    .dataframe thead th {\n",
       "        text-align: right;\n",
       "    }\n",
       "</style>\n",
       "<table border=\"1\" class=\"dataframe\">\n",
       "  <thead>\n",
       "    <tr style=\"text-align: right;\">\n",
       "      <th></th>\n",
       "      <th>video_id</th>\n",
       "      <th>sequence</th>\n",
       "      <th>video_frame</th>\n",
       "      <th>sequence_frame</th>\n",
       "      <th>image_id</th>\n",
       "      <th>annotations</th>\n",
       "    </tr>\n",
       "  </thead>\n",
       "  <tbody>\n",
       "    <tr>\n",
       "      <th>0</th>\n",
       "      <td>0</td>\n",
       "      <td>40258</td>\n",
       "      <td>0</td>\n",
       "      <td>0</td>\n",
       "      <td>0-0</td>\n",
       "      <td>[]</td>\n",
       "    </tr>\n",
       "    <tr>\n",
       "      <th>1</th>\n",
       "      <td>0</td>\n",
       "      <td>40258</td>\n",
       "      <td>1</td>\n",
       "      <td>1</td>\n",
       "      <td>0-1</td>\n",
       "      <td>[]</td>\n",
       "    </tr>\n",
       "    <tr>\n",
       "      <th>2</th>\n",
       "      <td>0</td>\n",
       "      <td>40258</td>\n",
       "      <td>2</td>\n",
       "      <td>2</td>\n",
       "      <td>0-2</td>\n",
       "      <td>[]</td>\n",
       "    </tr>\n",
       "    <tr>\n",
       "      <th>3</th>\n",
       "      <td>0</td>\n",
       "      <td>40258</td>\n",
       "      <td>3</td>\n",
       "      <td>3</td>\n",
       "      <td>0-3</td>\n",
       "      <td>[]</td>\n",
       "    </tr>\n",
       "    <tr>\n",
       "      <th>4</th>\n",
       "      <td>0</td>\n",
       "      <td>40258</td>\n",
       "      <td>4</td>\n",
       "      <td>4</td>\n",
       "      <td>0-4</td>\n",
       "      <td>[]</td>\n",
       "    </tr>\n",
       "  </tbody>\n",
       "</table>\n",
       "</div>"
      ],
      "text/plain": [
       "   video_id  sequence  video_frame  sequence_frame image_id annotations\n",
       "0         0     40258            0               0      0-0          []\n",
       "1         0     40258            1               1      0-1          []\n",
       "2         0     40258            2               2      0-2          []\n",
       "3         0     40258            3               3      0-3          []\n",
       "4         0     40258            4               4      0-4          []"
      ]
     },
     "execution_count": 18,
     "metadata": {},
     "output_type": "execute_result"
    }
   ],
   "source": [
    "training_data.head()"
   ]
  },
  {
   "cell_type": "code",
   "execution_count": 19,
   "metadata": {},
   "outputs": [
    {
     "data": {
      "text/plain": [
       "0        []\n",
       "1        []\n",
       "2        []\n",
       "3        []\n",
       "4        []\n",
       "         ..\n",
       "23496    []\n",
       "23497    []\n",
       "23498    []\n",
       "23499    []\n",
       "23500    []\n",
       "Name: annotations, Length: 23501, dtype: object"
      ]
     },
     "execution_count": 19,
     "metadata": {},
     "output_type": "execute_result"
    }
   ],
   "source": [
    "training_data[\"annotations\"]"
   ]
  },
  {
   "cell_type": "code",
   "execution_count": 20,
   "metadata": {},
   "outputs": [],
   "source": [
    "video_id = training_data[\"video_id\"]\n",
    "sequence = training_data[\"sequence\"]\n",
    "video_frame = training_data[\"video_frame\"]\n",
    "sequence_frame = training_data[\"sequence_frame\"]\n",
    "image_id = training_data[\"image_id\"]\n",
    "annotations = training_data[\"annotations\"]"
   ]
  },
  {
   "cell_type": "code",
   "execution_count": 21,
   "metadata": {},
   "outputs": [],
   "source": [
    "tf_video_id = tf.data.Dataset.from_tensor_slices(video_id)\n",
    "tf_sequence = tf.data.Dataset.from_tensor_slices(sequence)\n",
    "tf_video_frame = tf.data.Dataset.from_tensor_slices(video_frame)\n",
    "tf_sequence_frame = tf.data.Dataset.from_tensor_slices(sequence_frame)\n",
    "tf_image_id = tf.data.Dataset.from_tensor_slices(image_id)\n",
    "tf_annotations = tf.data.Dataset.from_tensor_slices(annotations)"
   ]
  },
  {
   "cell_type": "code",
   "execution_count": 22,
   "metadata": {},
   "outputs": [],
   "source": [
    "data_set = tf.data.Dataset.zip(\n",
    "    (\n",
    "        tf_video_id,\n",
    "        tf_sequence,\n",
    "        tf_video_frame,\n",
    "        tf_sequence_frame,\n",
    "        tf_image_id,\n",
    "        tf_annotations,\n",
    "    )\n",
    ")"
   ]
  },
  {
   "cell_type": "code",
   "execution_count": 23,
   "metadata": {},
   "outputs": [
    {
     "data": {
      "text/plain": [
       "<ZipDataset element_spec=(TensorSpec(shape=(), dtype=tf.int64, name=None), TensorSpec(shape=(), dtype=tf.int64, name=None), TensorSpec(shape=(), dtype=tf.int64, name=None), TensorSpec(shape=(), dtype=tf.int64, name=None), TensorSpec(shape=(), dtype=tf.string, name=None), TensorSpec(shape=(), dtype=tf.string, name=None))>"
      ]
     },
     "execution_count": 23,
     "metadata": {},
     "output_type": "execute_result"
    }
   ],
   "source": [
    "data_set"
   ]
  },
  {
   "cell_type": "markdown",
   "metadata": {},
   "source": [
    "---"
   ]
  },
  {
   "cell_type": "markdown",
   "metadata": {},
   "source": [
    "# Creating our own data-set folder which just has target images in it"
   ]
  },
  {
   "cell_type": "code",
   "execution_count": 193,
   "metadata": {},
   "outputs": [],
   "source": [
    "import json\n",
    "import cv2\n",
    "import shutil\n",
    "\n",
    "from matplotlib import pyplot as plt\n",
    "from pascal_voc_writer import Writer"
   ]
  },
  {
   "cell_type": "code",
   "execution_count": 194,
   "metadata": {},
   "outputs": [],
   "source": [
    "# Lets create a folder\n",
    "data_img_dir = os.path.abspath('..\\\\..\\\\data\\\\images\\\\')\n",
    "data_ann_dir = os.path.abspath('..\\\\..\\\\data\\\\annotations\\\\')\n",
    "data_set_dir = os.path.abspath('..\\\\..\\\\data\\\\image_set\\\\main\\\\')\n",
    "\n",
    "os.makedirs(data_img_dir, exist_ok=True)\n",
    "os.makedirs(data_ann_dir, exist_ok=True)\n",
    "os.makedirs(data_set_dir, exist_ok=True)"
   ]
  },
  {
   "cell_type": "code",
   "execution_count": 195,
   "metadata": {},
   "outputs": [],
   "source": [
    "# Path to CSV File and Training images\n",
    "base_path = ('../../tensorflow-great-barrier-reef/')\n",
    "csv_path = os.path.abspath(os.path.join(base_path, \"train.csv\"))\n",
    "image_base_path = os.path.abspath(os.path.join(base_path, \"train_images\"))"
   ]
  },
  {
   "cell_type": "code",
   "execution_count": 196,
   "metadata": {},
   "outputs": [],
   "source": [
    "def get_bboxes(annotations):\n",
    "    result = []\n",
    "    annotations = annotations.replace(\"'\", '\"')\n",
    "    annotations = json.loads(annotations)\n",
    "    for bbox in annotations:\n",
    "        box = [bbox[\"x\"], bbox[\"y\"], bbox[\"width\"], bbox[\"height\"]]\n",
    "        box = [float(x) for x in box]\n",
    "        result.append(box)\n",
    "    return result"
   ]
  },
  {
   "cell_type": "code",
   "execution_count": 197,
   "metadata": {},
   "outputs": [],
   "source": [
    "def visualize_bounding_boxes(img, annotations, category):\n",
    "    for annotation in annotations:\n",
    "        x, y, w, h = annotation.astype(np.float32)\n",
    "        x1 = (x-w/2).astype(int)\n",
    "        x2 = (x+w/2).astype(int)\n",
    "        y1 = (y-h/2).astype(int)\n",
    "        y2 = (y+h/2).astype(int)\n",
    "        if category.size == 0:\n",
    "            break\n",
    "        img = cv2.rectangle(img, (x1, y1), (x2, y2), (255, 0, 0), 3)\n",
    "    return img"
   ]
  },
  {
   "cell_type": "code",
   "execution_count": 215,
   "metadata": {},
   "outputs": [],
   "source": [
    "def generate_dataset(image_paths, boxes):\n",
    "    np.random.seed(56)\n",
    "    i = 0\n",
    "    len_i = len(str(len(image_paths)))\n",
    "    \n",
    "    ########## ---------- XXXXXXXXXX ---------- ##########\n",
    "    # Create an empty val and train file\n",
    "    train = os.path.join(data_set_dir, \"train.txt\")\n",
    "    train_f = open(train, 'w')\n",
    "    \n",
    "    val = os.path.join(data_set_dir, \"val.txt\")\n",
    "    val_f =  open(val, 'w')\n",
    "    val_f.write(\"\")\n",
    "    \n",
    "    \n",
    "    ########## ---------- XXXXXXXXXX ---------- ##########\n",
    "    # Create a train and calidation file which contains the name of all images and xmls\n",
    "    trainval = os.path.join(data_set_dir, \"trainval.txt\")\n",
    "    trainval_f = open(trainval, \"w\")\n",
    "    for image_path, annotations in zip(image_paths, boxes):\n",
    "        img = cv2.imread(image_path)\n",
    "        \n",
    "        name = str(i).zfill(len_i)\n",
    "        new_img_path = os.path.join(data_img_dir, name+\".jpg\")\n",
    "        new_ann_path = os.path.join(data_ann_dir, name+\".xml\")\n",
    "        \n",
    "        ########## ---------- XXXXXXXXXX ---------- ##########\n",
    "        # Saving the Image\n",
    "        cv2.imwrite(new_img_path, img)\n",
    "        \n",
    "        ########## ---------- XXXXXXXXXX ---------- ##########\n",
    "        # Saving the XML File\n",
    "        img_h, img_w, img_c = img.shape\n",
    "        writer = Writer(new_img_path, img_h, img_w)\n",
    "        c_name = \"star_fish\"        \n",
    "        annotations = np.array(annotations)\n",
    "        for ann in annotations:\n",
    "            xmin, ymin, xmax, ymax = ann\n",
    "            writer.addObject(c_name, xmin, ymin, xmax, ymax)\n",
    "        writer.save(new_ann_path)\n",
    "        \n",
    "        ########## ---------- XXXXXXXXXX ---------- ##########\n",
    "        # Write the name in the file\n",
    "        trainval_f.write(name+\"\\n\")\n",
    "        \n",
    "        choice = np.random.choice(2, 1, p=[0.3, 0.7])[0]\n",
    "        if choice == 1:\n",
    "            train_f.write(name+\"\\n\")\n",
    "        else:\n",
    "            val_f.write(name+\"\\n\")\n",
    "        \n",
    "        \n",
    "        i = i + 1\n",
    "        \n",
    "    train_f.close()\n",
    "    val_f.close()\n",
    "    trainval_f.close()\n",
    "    return"
   ]
  },
  {
   "cell_type": "code",
   "execution_count": 216,
   "metadata": {},
   "outputs": [
    {
     "name": "stdout",
     "output_type": "stream",
     "text": [
      "Total Number of Rows:  4919\n"
     ]
    }
   ],
   "source": [
    "# Creating a new image path folder with images that contains the target\n",
    "df = pd.read_csv(csv_path)\n",
    "\n",
    "df[\"image_path\"] = (image_base_path + \"/video_\" + df[\"video_id\"].astype(str) + \"/\" + df[\"video_frame\"].astype(str) + \".jpg\")\n",
    "df[\"boxes\"] = df[\"annotations\"].apply(lambda annotations: get_bboxes(annotations))\n",
    "df[\"num_bboxes\"] = df[\"boxes\"].apply(lambda x: len(x))\n",
    "max_boxes = df[\"num_bboxes\"].max()\n",
    "\n",
    "# Selecting the images with annotations more than 0\n",
    "min_boxes_per_image = 0\n",
    "df = df[df[\"num_bboxes\"] > min_boxes_per_image]\n",
    "image_paths = df[\"image_path\"]\n",
    "boxes = df[\"boxes\"]\n",
    "\n",
    "total_images = df.shape[0]\n",
    "print(\"Total Number of Rows: \", total_images)\n",
    "\n",
    "# Generating the data-set\n",
    "generate_dataset(image_paths, boxes)"
   ]
  },
  {
   "cell_type": "code",
   "execution_count": null,
   "metadata": {},
   "outputs": [],
   "source": []
  }
 ],
 "metadata": {
  "kernelspec": {
   "display_name": "Python 3 (ipykernel)",
   "language": "python",
   "name": "python3"
  },
  "language_info": {
   "codemirror_mode": {
    "name": "ipython",
    "version": 3
   },
   "file_extension": ".py",
   "mimetype": "text/x-python",
   "name": "python",
   "nbconvert_exporter": "python",
   "pygments_lexer": "ipython3",
   "version": "3.10.4"
  }
 },
 "nbformat": 4,
 "nbformat_minor": 4
}
